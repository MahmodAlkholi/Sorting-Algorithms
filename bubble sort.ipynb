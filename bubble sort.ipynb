{
 "cells": [
  {
   "cell_type": "markdown",
   "metadata": {},
   "source": [
    "# Bubble Sort"
   ]
  },
  {
   "cell_type": "markdown",
   "metadata": {},
   "source": [
    "## Bubble Sort is the simplest sorting algorithm that works by repeatedly swapping the adjacent elements if they are in the wrong order. "
   ]
  },
  {
   "cell_type": "code",
   "execution_count": 2,
   "metadata": {},
   "outputs": [],
   "source": [
    "my_lst = [22,77,33,88,14,62,74,1,294,125]"
   ]
  },
  {
   "cell_type": "code",
   "execution_count": 4,
   "metadata": {},
   "outputs": [
    {
     "data": {
      "text/plain": [
       "[1, 14, 22, 33, 62, 74, 77, 88, 125, 294]"
      ]
     },
     "execution_count": 4,
     "metadata": {},
     "output_type": "execute_result"
    }
   ],
   "source": [
    "def bubble_it(l):\n",
    "    size = len(l)\n",
    "    for j in range(size-1):       # n\n",
    "        for i in range(size-1):   # n +4\n",
    "            if l[i] > l[i+1]:\n",
    "                temp = l[i]\n",
    "                l[i] = l[i+1]\n",
    "                l[i+1] = temp\n",
    "    return l\n",
    "bubble_it(my_lst)\n",
    "\n",
    "# n**2 "
   ]
  },
  {
   "cell_type": "code",
   "execution_count": null,
   "metadata": {},
   "outputs": [],
   "source": []
  },
  {
   "cell_type": "code",
   "execution_count": null,
   "metadata": {},
   "outputs": [],
   "source": []
  },
  {
   "cell_type": "code",
   "execution_count": null,
   "metadata": {},
   "outputs": [],
   "source": []
  },
  {
   "cell_type": "code",
   "execution_count": null,
   "metadata": {},
   "outputs": [],
   "source": []
  },
  {
   "cell_type": "code",
   "execution_count": null,
   "metadata": {},
   "outputs": [],
   "source": []
  },
  {
   "cell_type": "code",
   "execution_count": 5,
   "metadata": {},
   "outputs": [
    {
     "data": {
      "text/plain": [
       "([1, 14, 22, 33, 62, 74, 77, 88, 125, 294], 'takes time 0:00:00.000023')"
      ]
     },
     "execution_count": 5,
     "metadata": {},
     "output_type": "execute_result"
    }
   ],
   "source": [
    "import datetime\n",
    "my_lst = [22,77,33,88,14,62,74,1,294,125]\n",
    "\n",
    "def bubble_sort(lst):\n",
    "    start = datetime.datetime.now()\n",
    "    size = len(lst)\n",
    "    for j in range(size-1):\n",
    "        for i in range(size-1):\n",
    "            if lst[i] > lst[i+1]:\n",
    "                temp = lst[i]\n",
    "                lst[i] = lst[i+1]\n",
    "                lst[i+1] = temp\n",
    "\n",
    "    end = datetime.datetime.now()\n",
    "\n",
    "    return lst , (f\"takes time {end - start}\")\n",
    "\n",
    "bubble_sort(my_lst)"
   ]
  },
  {
   "cell_type": "code",
   "execution_count": 6,
   "metadata": {},
   "outputs": [
    {
     "data": {
      "text/plain": [
       "([1, 14, 22, 33, 62, 74, 77, 88, 125, 294], 'takes time 0:00:00.000011')"
      ]
     },
     "execution_count": 6,
     "metadata": {},
     "output_type": "execute_result"
    }
   ],
   "source": [
    "def bubble_sort(lst):\n",
    "    size = len(lst)\n",
    "    start = datetime.datetime.now()\n",
    "    for j in range(size-1):\n",
    "        swaped = False\n",
    "        for i in range(size-1):\n",
    "            if lst[i] > lst[i+1]:\n",
    "                temp = lst[i]\n",
    "                lst[i] = lst[i+1]\n",
    "                lst[i+1] = temp\n",
    "                swaped = True\n",
    "        if not swaped:\n",
    "            break\n",
    "    end = datetime.datetime.now()\n",
    "\n",
    "    return lst , (f\"takes time {end - start}\")\n",
    "\n",
    "bubble_sort(my_lst)"
   ]
  },
  {
   "cell_type": "markdown",
   "metadata": {},
   "source": [
    "# Finding a Peak"
   ]
  },
  {
   "cell_type": "code",
   "execution_count": 2,
   "metadata": {},
   "outputs": [
    {
     "data": {
      "text/plain": [
       "7"
      ]
     },
     "execution_count": 2,
     "metadata": {},
     "output_type": "execute_result"
    }
   ],
   "source": [
    "lst = [6,7,4,5,1,2,3]\n",
    "\n",
    "def find_peak(l):\n",
    "    size = len(l)\n",
    "    for i in range(size):\n",
    "        if l[i] == size:\n",
    "            break\n",
    "        if l[i+1] > l[i] and l[i+1] > l[i+2]:\n",
    "            peak = l[i+1]\n",
    "\n",
    "    return peak\n",
    "\n",
    "find_peak(lst)"
   ]
  },
  {
   "cell_type": "code",
   "execution_count": null,
   "metadata": {},
   "outputs": [],
   "source": []
  }
 ],
 "metadata": {
  "kernelspec": {
   "display_name": "Python 3 (ipykernel)",
   "language": "python",
   "name": "python3"
  },
  "language_info": {
   "codemirror_mode": {
    "name": "ipython",
    "version": 3
   },
   "file_extension": ".py",
   "mimetype": "text/x-python",
   "name": "python",
   "nbconvert_exporter": "python",
   "pygments_lexer": "ipython3",
   "version": "3.9.15"
  },
  "vscode": {
   "interpreter": {
    "hash": "c7ec4f513601c880b2c75526e0866c71700e3da49672034e885917bb6e0f3156"
   }
  }
 },
 "nbformat": 4,
 "nbformat_minor": 2
}
