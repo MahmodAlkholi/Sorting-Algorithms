{
 "cells": [
  {
   "cell_type": "code",
   "execution_count": 1,
   "metadata": {},
   "outputs": [
    {
     "name": "stdout",
     "output_type": "stream",
     "text": [
      "[]\n",
      "what do you want to do? (insert , pop , exit):exit\n",
      "[]\n"
     ]
    }
   ],
   "source": [
    "def stack(arr):\n",
    "    print(arr)\n",
    "    \n",
    "    #buttom = arr[0]\n",
    "    arr_len = len(arr) \n",
    "\n",
    "    if arr_len != 0:\n",
    "        top = arr[-1]\n",
    "\n",
    "    choice = ['insert' , 'pop' , 'exit']\n",
    "\n",
    "    while True:  ########\n",
    "        \n",
    "        ch = input(\"what do you want to do ? (insert , pop , exit) : \")\n",
    "        if ch == choice[0]:\n",
    "            num = input(\"enter your elmint please : \")\n",
    "            arr.append(num)\n",
    "            top = arr[-1] ############\n",
    "            print(arr)\n",
    "            arr_len +=1\n",
    "        elif ch == choice[1]:\n",
    "            if arr_len == 0  :\n",
    "                \n",
    "                print (\"stack is empty\")\n",
    "\n",
    "                break\n",
    "            \n",
    "            else:\n",
    "                arr.pop()\n",
    "                arr_len -=1\n",
    "                #top = arr[-1]  ############\n",
    "                print(arr)\n",
    "        else:\n",
    "            print(arr)\n",
    "            break\n",
    "\n",
    "stack([])"
   ]
  },
  {
   "cell_type": "markdown",
   "metadata": {},
   "source": [
    "### prackets soluotion"
   ]
  },
  {
   "cell_type": "code",
   "execution_count": 2,
   "metadata": {},
   "outputs": [
    {
     "name": "stdout",
     "output_type": "stream",
     "text": [
      "True\n",
      "False\n",
      "True\n"
     ]
    }
   ],
   "source": [
    "\n",
    "class Stack():\n",
    "    def __init__(self):\n",
    "        self.items = []\n",
    "\n",
    "    def push(self, item):\n",
    "        self.items.append(item)\n",
    "\n",
    "    def pop(self):\n",
    "        return self.items.pop()\n",
    "    \n",
    "    def is_empty(self):\n",
    "        return self.items == []\n",
    "    \n",
    "    def peek(self):\n",
    "        if not self.is_empty():\n",
    "            return self.items[-1]\n",
    "        \n",
    "    def get_stack(self):\n",
    "        return self.items\n",
    "\n",
    "\n",
    "def is_match(p1, p2):\n",
    "    if p1 == \"(\" and p2 == \")\":\n",
    "        return True\n",
    "    elif p1 == \"{\" and p2 == \"}\":\n",
    "        return True\n",
    "    elif p1 == \"[\" and p2 == \"]\":\n",
    "        return True\n",
    "    else:\n",
    "        return False\n",
    "\n",
    "\n",
    "def is_paren_balanced(paren_string):\n",
    "    s = Stack()\n",
    "    is_balanced = True\n",
    "    index = 0\n",
    "\n",
    "    while index < len(paren_string) and is_balanced:\n",
    "        paren = paren_string[index]\n",
    "        if paren in \"([{\":\n",
    "            s.push(paren)\n",
    "        else:\n",
    "            if s.is_empty():\n",
    "                is_balanced = False\n",
    "            else:\n",
    "                top = s.pop()\n",
    "                if not is_match(top, paren):\n",
    "                    is_balanced = False\n",
    "        index += 1\n",
    "\n",
    "    if s.is_empty() and is_balanced:\n",
    "        return True\n",
    "    else:\n",
    "        return False\n",
    "\n",
    "\n",
    "print(is_paren_balanced(\"(((({}))))\"))\n",
    "\n",
    "print(is_paren_balanced(\"[][]]]\"))\n",
    "print(is_paren_balanced(\"[][]\"))"
   ]
  },
  {
   "cell_type": "markdown",
   "metadata": {},
   "source": [
    "### Prefix , infix , Postfix"
   ]
  },
  {
   "cell_type": "code",
   "execution_count": 141,
   "metadata": {},
   "outputs": [
    {
     "name": "stdout",
     "output_type": "stream",
     "text": [
      "21\n"
     ]
    }
   ],
   "source": [
    "\"\"\"\n",
    "Python3 program to evaluate a prefix expression.\n",
    "\"\"\"\n",
    "\n",
    "\n",
    "def is_operand(c):\n",
    "\t\"\"\"\n",
    "\tReturn True if the given char c is an operand, e.g. it is a number\n",
    "\t\"\"\"\n",
    "\treturn c.isdigit()\n",
    "\n",
    "\n",
    "def evaluate(expression):\n",
    "\t\"\"\"\n",
    "\tEvaluate a given expression in prefix notation.\n",
    "\tAsserts that the given expression is valid.\n",
    "\t\"\"\"\n",
    "\tstack = []\n",
    "\n",
    "\t# iterate over the string in reverse order\n",
    "\tfor c in expression[::-1]:\n",
    "\n",
    "\t\t# push operand to stack\n",
    "\t\tif is_operand(c):\n",
    "\t\t\tstack.append(int(c))\n",
    "\n",
    "\t\telse:\n",
    "\t\t\t# pop values from stack can calculate the result\n",
    "\t\t\t# push the result onto the stack again\n",
    "\t\t\to1 = stack.pop()\n",
    "\t\t\to2 = stack.pop()\n",
    "\n",
    "\t\t\tif c == '+':\n",
    "\t\t\t\tstack.append(o1 + o2)\n",
    "\n",
    "\t\t\telif c == '-':\n",
    "\t\t\t\tstack.append(o1 - o2)\n",
    "\n",
    "\t\t\telif c == '*':\n",
    "\t\t\t\tstack.append(o1 * o2)\n",
    "\n",
    "\t\t\telif c == '/':\n",
    "\t\t\t\tstack.append(o1 / o2)\n",
    "\n",
    "\treturn stack.pop()\n",
    "\n",
    "\n",
    "# Driver code\n",
    "if __name__ == \"__main__\":\n",
    "\ttest_expression = \"+9*26\"\n",
    "\tprint(evaluate(test_expression))\n",
    "\n",
    "# This code is contributed by Leon Morten Richter (GitHub: M0r13n)\n"
   ]
  },
  {
   "cell_type": "code",
   "execution_count": 14,
   "metadata": {},
   "outputs": [
    {
     "data": {
      "text/plain": [
       "False"
      ]
     },
     "execution_count": 14,
     "metadata": {},
     "output_type": "execute_result"
    }
   ],
   "source": [
    "def chek_pr(ex1 , ex2):\n",
    "    open_p = \"({[\"\n",
    "    close_p = \")}]\"\n",
    "    \n",
    "    if ex1 == open_p[:1] and ex2 == close_p[:1]: return True\n",
    "    \n",
    "    elif ex1 == open_p[1:2] and ex2 == close_p[1:2]: return True\n",
    "    \n",
    "    elif ex1 == open_p[2:] and ex2 == close_p[2:]: return True \n",
    "    \n",
    "    else:\n",
    "        return False\n",
    "    \n",
    "    \n",
    "chek_pr( \"((\", \"))\")"
   ]
  },
  {
   "cell_type": "code",
   "execution_count": 10,
   "metadata": {},
   "outputs": [
    {
     "name": "stdout",
     "output_type": "stream",
     "text": [
      "['+']\n",
      "['+']\n",
      "['+', '/']\n",
      "['+', '/', '*']\n",
      "['+', '/', '*', '+']\n",
      "['+', '/', '*', '*']\n"
     ]
    },
    {
     "data": {
      "text/plain": [
       "'12+7273+2*'"
      ]
     },
     "execution_count": 10,
     "metadata": {},
     "output_type": "execute_result"
    }
   ],
   "source": [
    "\n",
    "\n",
    "def postfix(regx):\n",
    "    nums = ['0','1','2','3','4','5','6','7','8','9']\n",
    "    somp = [\"+\" , \"-\" , \"*\" , \"/\"]\n",
    "    open_practs = [\"(\"  , \"{\" ,  \"[\" ]\n",
    "    close_practs = [\")\" , \"}\" , \"]\"]\n",
    "    new_reg = \"\"\n",
    "    stk = []\n",
    "\n",
    "    for i in regx:\n",
    "        if i == \" \":\n",
    "            continue\n",
    "\n",
    "        elif i in open_practs:\n",
    "            continue\n",
    "\n",
    "\n",
    "        elif i in somp:\n",
    "            stk.append(i)\n",
    "            print(stk)\n",
    "            \n",
    "            \n",
    "\n",
    "        elif i in close_practs:\n",
    "            \n",
    "            new_reg += stk[-1]\n",
    "            stk.pop()\n",
    "            \n",
    "            \n",
    "\n",
    "        \n",
    "\n",
    "        elif i in nums:\n",
    "            new_reg += i\n",
    "            \n",
    "            \n",
    "    #print(stk)\n",
    "    return new_reg\n",
    "\n",
    "postfix(\"(1+2)+7/2*((7+3)*2)\")"
   ]
  },
  {
   "cell_type": "code",
   "execution_count": 16,
   "metadata": {},
   "outputs": [
    {
     "data": {
      "text/plain": [
       "34"
      ]
     },
     "execution_count": 16,
     "metadata": {},
     "output_type": "execute_result"
    }
   ],
   "source": [
    "def evaluate(reg):\n",
    "    stk = []\n",
    "    nums = ['0','1','2','3','4','5','6','7','8','9']\n",
    "    obr = [\"+\" , \"-\" , \"*\" , \"/\"]\n",
    "    \n",
    "    for i in reg:\n",
    "        if i in nums:\n",
    "            stk.append(i)\n",
    "            \n",
    "        elif i in obr:\n",
    "            x = int(stk.pop())\n",
    "            y = int(stk.pop())\n",
    "            \n",
    "            if i == \"+\":\n",
    "                stk.append(x + y)\n",
    "                \n",
    "            elif i == \"-\":\n",
    "                stk.append(x - y)\n",
    "                \n",
    "            elif i == \"*\":\n",
    "                stk.append(x * y)\n",
    "                \n",
    "            elif i == \"/\":\n",
    "                stk.append(x / y)\n",
    "                \n",
    "    return stk[-1]\n",
    "                \n",
    "            \n",
    "evaluate(\"456*+\")"
   ]
  },
  {
   "cell_type": "code",
   "execution_count": 18,
   "metadata": {},
   "outputs": [
    {
     "data": {
      "text/plain": [
       "'12+10'"
      ]
     },
     "execution_count": 18,
     "metadata": {},
     "output_type": "execute_result"
    }
   ],
   "source": [
    "def postfix(string):\n",
    "    \n",
    "    num = ['0','1','2','3','4','5','6','7','8','9']\n",
    "    obrs = [\"+\" , \"-\" , \"*\" , \"/\"]\n",
    "    op_brakets = [\"(\" , \"{\" , \"[\"]\n",
    "    cl_brakets = [\")\" , \"}\" , \"]\"]\n",
    "    stak = []\n",
    "    res = \"\"\n",
    "    \n",
    "    for i in string:\n",
    "        if i == \" \":\n",
    "            continue\n",
    "            \n",
    "        elif i in op_brakets:\n",
    "            continue\n",
    "            \n",
    "        elif i in obrs:\n",
    "            if stak == []:stak.append(i)\n",
    "                \n",
    "            else:\n",
    "                res+=stak[-1]\n",
    "                stak.pop()\n",
    "                stak.append(i)\n",
    "                \n",
    "        elif i in cl_brakets:\n",
    "            res+=stak[-1]\n",
    "            stak.pop()\n",
    "            \n",
    "        elif i in num: res+=i\n",
    "            \n",
    "    return res\n",
    "\n",
    "postfix(\"(1+2)*10\")"
   ]
  },
  {
   "cell_type": "code",
   "execution_count": null,
   "metadata": {},
   "outputs": [],
   "source": []
  },
  {
   "cell_type": "code",
   "execution_count": 19,
   "metadata": {},
   "outputs": [
    {
     "data": {
      "text/plain": [
       "7"
      ]
     },
     "execution_count": 19,
     "metadata": {},
     "output_type": "execute_result"
    }
   ],
   "source": [
    "r = \"kjdbcig\"\n",
    "len(r)"
   ]
  },
  {
   "cell_type": "code",
   "execution_count": 1,
   "metadata": {},
   "outputs": [],
   "source": [
    "class Stk():\n",
    "    def __init__(self):\n",
    "        self.items = []\n",
    "\n",
    "    def push(self , item):\n",
    "        self.items.append(item)\n",
    "\n",
    "    def pop(self):\n",
    "        return self.items.pop()\n",
    "\n",
    "    def show(self):\n",
    "        return self.items\n",
    "\n",
    "    def clear(self):\n",
    "        self.items.clear()\n",
    "    \n",
    "    def chick(self):\n",
    "        if self.items == []:\n",
    "            return \"stack is empty\"\n",
    "        else:\n",
    "            return \"stack is not empty\"\n",
    "\n",
    "s = Stk()\n",
    "\n",
    "\n",
    "    "
   ]
  },
  {
   "cell_type": "markdown",
   "metadata": {},
   "source": [
    "## evaluate postfix exp (382/+5-)"
   ]
  },
  {
   "cell_type": "code",
   "execution_count": 14,
   "metadata": {},
   "outputs": [
    {
     "data": {
      "text/plain": [
       "[2]"
      ]
     },
     "execution_count": 14,
     "metadata": {},
     "output_type": "execute_result"
    }
   ],
   "source": [
    "def evaluat(exp):\n",
    "    num = \"0123456789\"\n",
    "    obr = ['+','-','*','/']\n",
    "    \n",
    "    for i in exp:\n",
    "        if i in num:\n",
    "            s.push(i)\n",
    "\n",
    "        elif i in obr:\n",
    "            sc = int(s.pop())\n",
    "            fr = int(s.pop())\n",
    "\n",
    "            if i == obr[0]:\n",
    "                res = fr + sc\n",
    "                s.push(res)\n",
    "                \n",
    "                \n",
    "            elif i == obr[1]:\n",
    "                res = fr - sc\n",
    "                s.push(res)\n",
    "\n",
    "            elif i == obr[2]:\n",
    "                res = fr * sc\n",
    "                s.push(res)\n",
    "\n",
    "            elif i == obr[3]:\n",
    "                res = fr / sc\n",
    "                s.push(res)\n",
    "    \n",
    "                    \n",
    "\n",
    "\n",
    "    return s.show()\n",
    "    return s.clear()\n",
    "\n",
    "        \n",
    "\n",
    "\n",
    "evaluat(\"382/+5-\")"
   ]
  },
  {
   "cell_type": "markdown",
   "metadata": {},
   "source": [
    "### convert to postfix (((3+6)*(2-4))+7)"
   ]
  },
  {
   "cell_type": "code",
   "execution_count": 3,
   "metadata": {},
   "outputs": [
    {
     "data": {
      "text/plain": [
       "'36+24-*7+'"
      ]
     },
     "execution_count": 3,
     "metadata": {},
     "output_type": "execute_result"
    }
   ],
   "source": [
    "def to_post(exp):\n",
    "    num = \"0123456789\"\n",
    "    open_pr = \"({[\"\n",
    "    close_pr = \")}]\"\n",
    "    new_var = \"\"\n",
    "\n",
    "    obr = [\"+\" , \"-\" , \"*\" , \"/\"]\n",
    "    s.clear()\n",
    "    for i in exp:\n",
    "        if i in open_pr:\n",
    "            continue\n",
    "\n",
    "        elif i in num:\n",
    "            s.push(i)\n",
    "            x = s.pop()\n",
    "            new_var +=x\n",
    "\n",
    "        elif i in obr:\n",
    "            s.push(i)\n",
    "\n",
    "        elif i in close_pr:\n",
    "            x = s.pop()\n",
    "            new_var+=x\n",
    "\n",
    "            \n",
    "    return new_var \n",
    "    return s.clear()   \n",
    "\n",
    "\n",
    "to_post(\"(((3+6)*(2-4))+7)\")"
   ]
  },
  {
   "cell_type": "code",
   "execution_count": null,
   "metadata": {},
   "outputs": [],
   "source": []
  }
 ],
 "metadata": {
  "kernelspec": {
   "display_name": "Python 3 (ipykernel)",
   "language": "python",
   "name": "python3"
  },
  "language_info": {
   "codemirror_mode": {
    "name": "ipython",
    "version": 3
   },
   "file_extension": ".py",
   "mimetype": "text/x-python",
   "name": "python",
   "nbconvert_exporter": "python",
   "pygments_lexer": "ipython3",
   "version": "3.9.13"
  },
  "vscode": {
   "interpreter": {
    "hash": "c7ec4f513601c880b2c75526e0866c71700e3da49672034e885917bb6e0f3156"
   }
  }
 },
 "nbformat": 4,
 "nbformat_minor": 2
}
