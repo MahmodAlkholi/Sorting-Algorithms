{
 "cells": [
  {
   "cell_type": "markdown",
   "id": "b249c222",
   "metadata": {},
   "source": [
    "# Recursion Algorithm"
   ]
  },
  {
   "cell_type": "code",
   "execution_count": 3,
   "id": "9e190dc4",
   "metadata": {},
   "outputs": [
    {
     "data": {
      "text/plain": [
       "5040"
      ]
     },
     "execution_count": 3,
     "metadata": {},
     "output_type": "execute_result"
    }
   ],
   "source": [
    "# get the factorial\n",
    "\n",
    "def fact(n):\n",
    "    if n == 1: return 1\n",
    "    else:\n",
    "        return n*fact(n-1)\n",
    "    \n",
    "fact(7)"
   ]
  },
  {
   "cell_type": "markdown",
   "id": "164fd50b",
   "metadata": {},
   "source": [
    "# Insertion Sort"
   ]
  },
  {
   "cell_type": "code",
   "execution_count": 4,
   "id": "5839525b",
   "metadata": {},
   "outputs": [],
   "source": [
    "my_list = [11,8,29,14,65,32,45,17]\n"
   ]
  },
  {
   "cell_type": "code",
   "execution_count": 18,
   "id": "cab99193",
   "metadata": {},
   "outputs": [
    {
     "data": {
      "text/plain": [
       "[8, 11, 14, 17, 29, 32, 45, 65]"
      ]
     },
     "execution_count": 18,
     "metadata": {},
     "output_type": "execute_result"
    }
   ],
   "source": [
    "def selectionSort( itemsList ):\n",
    "    n = len( itemsList )\n",
    "    for i in range( n - 1 ): \n",
    "        minValueIndex = i\n",
    "\n",
    "        for j in range( i + 1, n ):\n",
    "            if itemsList[j] < itemsList[minValueIndex] :\n",
    "                minValueIndex = j\n",
    "\n",
    "        if minValueIndex != i :\n",
    "            temp = itemsList[i]\n",
    "            itemsList[i] = itemsList[minValueIndex]\n",
    "            itemsList[minValueIndex] = temp\n",
    "\n",
    "    return itemsList\n",
    "\n",
    "selectionSort(my_list)"
   ]
  },
  {
   "cell_type": "markdown",
   "id": "9fcc79ea",
   "metadata": {},
   "source": [
    "# Merge sort"
   ]
  },
  {
   "cell_type": "code",
   "execution_count": 30,
   "id": "cc3fa5ad",
   "metadata": {},
   "outputs": [
    {
     "name": "stdout",
     "output_type": "stream",
     "text": [
      "Given array is\n",
      "12 11 13 5 6 7 \n",
      "Sorted array is: \n",
      "5 6 7 11 12 13 \n"
     ]
    }
   ],
   "source": [
    "# Python program for implementation of MergeSort\n",
    "def mergeSort(arr):\n",
    "\tif len(arr) > 1:\n",
    "\n",
    "\t\t# Finding the mid of the array\n",
    "\t\tmid = len(arr)//2\n",
    "\n",
    "\t\t# Dividing the array elements\n",
    "\t\tL = arr[:mid]\n",
    "\n",
    "\t\t# into 2 halves\n",
    "\t\tR = arr[mid:]\n",
    "\n",
    "\t\t# Sorting the first half\n",
    "\t\tmergeSort(L)\n",
    "\n",
    "\t\t# Sorting the second half\n",
    "\t\tmergeSort(R)\n",
    "\n",
    "\t\ti = j = k = 0\n",
    "\n",
    "\t\t# Copy data to temp arrays L[] and R[]\n",
    "\t\twhile i < len(L) and j < len(R):\n",
    "\t\t\tif L[i] <= R[j]:\n",
    "\t\t\t\tarr[k] = L[i]\n",
    "\t\t\t\ti += 1\n",
    "\t\t\telse:\n",
    "\t\t\t\tarr[k] = R[j]\n",
    "\t\t\t\tj += 1\n",
    "\t\t\tk += 1\n",
    "\n",
    "\t\t# Checking if any element was left\n",
    "\t\twhile i < len(L):\n",
    "\t\t\tarr[k] = L[i]\n",
    "\t\t\ti += 1\n",
    "\t\t\tk += 1\n",
    "\n",
    "\t\twhile j < len(R):\n",
    "\t\t\tarr[k] = R[j]\n",
    "\t\t\tj += 1\n",
    "\t\t\tk += 1\n",
    "\n",
    "# Code to print the list\n",
    "\n",
    "\n",
    "def printList(arr):\n",
    "\tfor i in range(len(arr)):\n",
    "\t\tprint(arr[i], end=\" \")\n",
    "\tprint()\n",
    "\n",
    "\n",
    "# Driver Code\n",
    "if __name__ == '__main__':\n",
    "\tarr = [12, 11, 13, 5, 6, 7]\n",
    "\tprint(\"Given array is\", end=\"\\n\")\n",
    "\tprintList(arr)\n",
    "\tmergeSort(arr)\n",
    "\tprint(\"Sorted array is: \", end=\"\\n\")\n",
    "\tprintList(arr)\n",
    "\n",
    "# This code is contributed by Mayank Khanna\n"
   ]
  },
  {
   "cell_type": "markdown",
   "id": "9f4f4025",
   "metadata": {},
   "source": [
    "# Heap Sorting"
   ]
  },
  {
   "cell_type": "code",
   "execution_count": 2,
   "id": "dbc34251",
   "metadata": {},
   "outputs": [
    {
     "name": "stdout",
     "output_type": "stream",
     "text": [
      "Sorted array is\n",
      "5\n",
      "6\n",
      "7\n",
      "11\n",
      "12\n",
      "13\n"
     ]
    }
   ],
   "source": [
    "#!/usr/bin/python\n",
    "# -*- coding: utf-8 -*-\n",
    "# Python program for implementation of heap Sort\n",
    "\n",
    "# To heapify subtree rooted at index i.\n",
    "# n is size of heap\n",
    "\n",
    "\n",
    "def heapify(arr, n, i):\n",
    "\tlargest = i # Initialize largest as root\n",
    "\tl = 2 * i + 1 # left = 2*i + 1\n",
    "\tr = 2 * i + 2 # right = 2*i + 2\n",
    "\n",
    "# See if left child of root exists and is\n",
    "# greater than root\n",
    "\n",
    "\tif l < n and arr[i] < arr[l]:\n",
    "\t\tlargest = l\n",
    "\n",
    "# See if right child of root exists and is\n",
    "# greater than root\n",
    "\n",
    "\tif r < n and arr[largest] < arr[r]:\n",
    "\t\tlargest = r\n",
    "\n",
    "# Change root, if needed\n",
    "\n",
    "\tif largest != i:\n",
    "\t\t(arr[i], arr[largest]) = (arr[largest], arr[i]) # swap\n",
    "\n",
    "# Heapify the root.\n",
    "\n",
    "\t\theapify(arr, n, largest)\n",
    "\n",
    "\n",
    "# The main function to sort an array of given size\n",
    "\n",
    "def heapSort(arr):\n",
    "\tn = len(arr)\n",
    "\n",
    "# Build a maxheap.\n",
    "# Since last parent will be at ((n//2)-1) we can start at that location.\n",
    "\n",
    "\tfor i in range(n // 2 - 1, -1, -1):\n",
    "\t\theapify(arr, n, i)\n",
    "\n",
    "# One by one extract elements\n",
    "\n",
    "\tfor i in range(n - 1, 0, -1):\n",
    "\t\t(arr[i], arr[0]) = (arr[0], arr[i]) # swap\n",
    "\t\theapify(arr, i, 0)\n",
    "\n",
    "\n",
    "# Driver code to test above\n",
    "\n",
    "arr = [12, 11, 13, 5, 6, 7]\n",
    "heapSort(arr)\n",
    "n = len(arr)\n",
    "print('Sorted array is')\n",
    "for i in range(n):\n",
    "\tprint(arr[i])\n",
    "\n",
    "# This code is contributed by Mohit Kumra\n"
   ]
  },
  {
   "cell_type": "code",
   "execution_count": null,
   "id": "d9567681",
   "metadata": {},
   "outputs": [],
   "source": []
  }
 ],
 "metadata": {
  "kernelspec": {
   "display_name": "Python 3 (ipykernel)",
   "language": "python",
   "name": "python3"
  },
  "language_info": {
   "codemirror_mode": {
    "name": "ipython",
    "version": 3
   },
   "file_extension": ".py",
   "mimetype": "text/x-python",
   "name": "python",
   "nbconvert_exporter": "python",
   "pygments_lexer": "ipython3",
   "version": "3.9.15"
  }
 },
 "nbformat": 4,
 "nbformat_minor": 5
}
